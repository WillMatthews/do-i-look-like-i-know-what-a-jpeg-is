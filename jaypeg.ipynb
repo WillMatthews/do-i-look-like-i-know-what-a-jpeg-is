{
 "cells": [
  {
   "cell_type": "code",
   "execution_count": 16,
   "metadata": {},
   "outputs": [],
   "source": [
    "from PIL import Image\n",
    "import numpy as np\n",
    "import matplotlib.pyplot as plt\n",
    "import seaborn as sns\n",
    "import pandas as pd\n",
    "from io import BytesIO\n",
    "\n",
    "BLOCKSIZE = 8"
   ]
  },
  {
   "cell_type": "code",
   "execution_count": 17,
   "metadata": {},
   "outputs": [],
   "source": [
    "\n",
    "def measure_image_loss(original, compressed):\n",
    "    numel = np.prod(original.size)\n",
    "    original = np.array(original)\n",
    "    compressed = np.array(compressed)\n",
    "    loss = np.sum(np.power(original - compressed, 2))\n",
    "    return loss / numel\n",
    "\n",
    "def compress_image(original, quality):\n",
    "    buffer = BytesIO()\n",
    "    original.save(buffer, format='JPEG', quality=quality)\n",
    "    buffer.seek(0)\n",
    "    compressed = Image.open(buffer)\n",
    "    return compressed\n",
    "\n",
    "def measure_quality_curve(original, qualities):\n",
    "    losses = []\n",
    "    for quality in qualities:\n",
    "        compressed = compress_image(original, quality)\n",
    "        loss = measure_image_loss(original, compressed)\n",
    "        losses.append(loss)\n",
    "    return losses\n",
    "\n",
    "def shift_image(image, shift=(0, 0)):\n",
    "    \"\"\"Shift the image by the specified amount. Resizes the image to fit the new size.\n",
    "    Any pixels that are shifted out of the image are lost. Uses a numpy implementation for speed.\"\"\"\n",
    "    image = np.array(image)\n",
    "    shift = np.array(shift)\n",
    "    new_image = np.zeros_like(image)\n",
    "    new_image[max(0, shift[0]):min(image.shape[0], image.shape[0] + shift[0]),\n",
    "              max(0, shift[1]):min(image.shape[1], image.shape[1] + shift[1])] = image[max(0, -shift[0]):min(image.shape[0], image.shape[0] - shift[0]),\n",
    "                                                                                      max(0, -shift[1]):min(image.shape[1], image.shape[1] - shift[1])]\n",
    "    return Image.fromarray(new_image)"
   ]
  },
  {
   "cell_type": "code",
   "execution_count": 18,
   "metadata": {},
   "outputs": [],
   "source": [
    "def experiment():\n",
    "    # We use the new Lena image https://mortenhannemose.github.io/lena/ to demonstrate the JPEG compression algorithm.\n",
    "    original = Image.open('Lena_2048.png')\n",
    "    qualities = [1, 2, 3, 4, 5, 6, 7, 8, 9, 10, 15, 20, 30, 40, 50, 60, 70, 80, 90, 100]\n",
    "\n",
    "    blocksweep_x = list(range(0, BLOCKSIZE+1, 1))\n",
    "    blocksweep_y = blocksweep_x\n",
    "\n",
    "    total = len(qualities) * len(blocksweep_x) * len(blocksweep_y)\n",
    "\n",
    "    metadata = {\n",
    "        'qualities': qualities,\n",
    "        'blocksweep_x': blocksweep_x,\n",
    "        'blocksweep_y': blocksweep_y,\n",
    "        'total': total\n",
    "    }\n",
    "\n",
    "    df = pd.DataFrame()\n",
    "\n",
    "    # Create loss-compression curves for different shifts.\n",
    "    # We are interested in post-compression shifts, to see what jpeg block artifacts do to the image.\n",
    "    for i, shiftx in enumerate(blocksweep_x):\n",
    "        for j, shifty in enumerate(blocksweep_y):\n",
    "            for k, quality in enumerate(qualities):\n",
    "                compressed_original = compress_image(original, quality)\n",
    "                so_far = i * len(qualities) + j * len(qualities) + k\n",
    "\n",
    "                print(f'Quality: {quality}, Shift: ({shiftx}, {shifty})', f\"{so_far}/{total}\")\n",
    "                shifted_original = shift_image(compressed_original, (shiftx, shifty))\n",
    "                losses = measure_quality_curve(shifted_original, qualities)\n",
    "                df[quality, shiftx, shifty] = losses\n",
    "\n",
    "    return df, metadata"
   ]
  },
  {
   "cell_type": "code",
   "execution_count": 19,
   "metadata": {},
   "outputs": [
    {
     "name": "stdout",
     "output_type": "stream",
     "text": [
      "Quality: 1, Shift: (0, 0) 0/1620\n",
      "Quality: 2, Shift: (0, 0) 1/1620\n",
      "Quality: 3, Shift: (0, 0) 2/1620\n",
      "Quality: 4, Shift: (0, 0) 3/1620\n",
      "Quality: 5, Shift: (0, 0) 4/1620\n",
      "Quality: 6, Shift: (0, 0) 5/1620\n",
      "Quality: 7, Shift: (0, 0) 6/1620\n",
      "Quality: 8, Shift: (0, 0) 7/1620\n",
      "Quality: 9, Shift: (0, 0) 8/1620\n"
     ]
    }
   ],
   "source": [
    "import pickle as pkl\n",
    "\n",
    "out, mdat = experiment()\n",
    "d = {'df': out, 'metadata': mdat}\n",
    "with open('data.pkl', 'wb') as f:\n",
    "    pkl.dump(d, f)"
   ]
  },
  {
   "cell_type": "code",
   "execution_count": 15,
   "metadata": {},
   "outputs": [
    {
     "ename": "KeyError",
     "evalue": "'metadata'",
     "output_type": "error",
     "traceback": [
      "\u001b[0;31m---------------------------------------------------------------------------\u001b[0m",
      "\u001b[0;31mKeyError\u001b[0m                                  Traceback (most recent call last)",
      "\u001b[0;32m/tmp/ipykernel_3266095/706697536.py\u001b[0m in \u001b[0;36m<module>\u001b[0;34m\u001b[0m\n\u001b[1;32m      4\u001b[0m \u001b[0;34m\u001b[0m\u001b[0m\n\u001b[1;32m      5\u001b[0m \u001b[0mdf\u001b[0m \u001b[0;34m=\u001b[0m \u001b[0md\u001b[0m\u001b[0;34m[\u001b[0m\u001b[0;34m'df'\u001b[0m\u001b[0;34m]\u001b[0m\u001b[0;34m\u001b[0m\u001b[0;34m\u001b[0m\u001b[0m\n\u001b[0;32m----> 6\u001b[0;31m \u001b[0mmdat\u001b[0m \u001b[0;34m=\u001b[0m \u001b[0md\u001b[0m\u001b[0;34m[\u001b[0m\u001b[0;34m'metadata'\u001b[0m\u001b[0;34m]\u001b[0m\u001b[0;34m\u001b[0m\u001b[0;34m\u001b[0m\u001b[0m\n\u001b[0m\u001b[1;32m      7\u001b[0m \u001b[0mqualities\u001b[0m \u001b[0;34m=\u001b[0m \u001b[0mmdat\u001b[0m\u001b[0;34m[\u001b[0m\u001b[0;34m'qualities'\u001b[0m\u001b[0;34m]\u001b[0m\u001b[0;34m\u001b[0m\u001b[0;34m\u001b[0m\u001b[0m\n\u001b[1;32m      8\u001b[0m \u001b[0mblocksweep_x\u001b[0m \u001b[0;34m=\u001b[0m \u001b[0mmdat\u001b[0m\u001b[0;34m[\u001b[0m\u001b[0;34m'blocksweep_x'\u001b[0m\u001b[0;34m]\u001b[0m\u001b[0;34m\u001b[0m\u001b[0;34m\u001b[0m\u001b[0m\n",
      "\u001b[0;31mKeyError\u001b[0m: 'metadata'"
     ]
    }
   ],
   "source": [
    "# Plot the results\n",
    "with open('data.pkl', 'rb') as f:\n",
    "    d = pkl.load(f)\n",
    "\n",
    "df = d['df']\n",
    "mdat = d['metadata']\n",
    "qualities = mdat['qualities']\n",
    "blocksweep_x = mdat['blocksweep_x']\n",
    "blocksweep_y = mdat['blocksweep_y']\n",
    "\n",
    "sns.set_style('whitegrid')\n",
    "# create a grid of plots - one for each quality\n",
    "fig, ax = plt.subplots(len(qualities), 1, figsize=(10, 20))\n",
    "for i, quality in enumerate(qualities):\n",
    "    ax[i].set_title(f'Quality: {quality}')\n",
    "    for j, shiftx in enumerate(blocksweep_x):\n",
    "        for k, shifty in enumerate(blocksweep_y):\n",
    "            xs = qualities\n",
    "            ys = df[quality, shiftx, shifty]\n",
    "            ax[i].plot(xs, ys, label=f'Shift: ({shiftx}, {shifty})')\n",
    "    ax[i].set_xlabel('Quality')\n",
    "    ax[i].set_ylabel('Loss')\n",
    "    ax[i].legend()\n",
    "plt.tight_layout()"
   ]
  }
 ],
 "metadata": {
  "kernelspec": {
   "display_name": "Python 3",
   "language": "python",
   "name": "python3"
  },
  "language_info": {
   "codemirror_mode": {
    "name": "ipython",
    "version": 3
   },
   "file_extension": ".py",
   "mimetype": "text/x-python",
   "name": "python",
   "nbconvert_exporter": "python",
   "pygments_lexer": "ipython3",
   "version": "3.10.12"
  }
 },
 "nbformat": 4,
 "nbformat_minor": 2
}
